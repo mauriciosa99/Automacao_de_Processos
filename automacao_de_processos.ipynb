{
 "cells": [
  {
   "cell_type": "markdown",
   "metadata": {},
   "source": [
    "# Automação de Sistemas e Processos com Python\n",
    "\n",
    "### Desafio:\n",
    "\n",
    "Todos os dias, o nosso sistema atualiza as vendas do dia anterior.\n",
    "O seu trabalho diário, como analista, é enviar um e-mail para a diretoria, assim que começar a trabalhar, com o faturamento e a quantidade de produtos vendidos no dia anterior\n",
    "\n",
    "E-mail da diretoria: seugmail+diretoria@gmail.com<br>\n",
    "Local onde o sistema disponibiliza as vendas do dia anterior: https://drive.google.com/drive/folders/1mhXZ3JPAnekXP_4vX7Z_sJj35VWqayaR?usp=sharing\n",
    "\n",
    "Para resolver isso, será utilizado o pyautogui, uma biblioteca de automação de comandos do mouse e do teclado"
   ]
  },
  {
   "cell_type": "code",
   "execution_count": 2,
   "metadata": {},
   "outputs": [],
   "source": [
    "#importando as bibliotecas necessárias\n",
    "import pandas as pd \n",
    "import pyautogui \n",
    "import time \n",
    "import pyperclip"
   ]
  },
  {
   "cell_type": "code",
   "execution_count": 30,
   "metadata": {},
   "outputs": [],
   "source": [
    "pyautogui.PAUSE = 1\n",
    "#Abrir navegador \n",
    "pyautogui.alert(\"Vai começar, Aperte OK para começar a automação, OBSERVAÇÃO: NÃO MEXA EM NADA!\")\n",
    "pyautogui.hotkey('ctrl', 't')\n",
    "\n",
    "#Abrir Drive \n",
    "#escrevendo link em uma variavel chamada \"link\"\n",
    "link = 'https://drive.google.com/drive/my-drive'\n",
    "pyperclip.copy(link)\n",
    "pyautogui.hotkey('ctrl', 'v')\n",
    "pyautogui.press('enter')\n",
    "time.sleep(7)\n",
    "\n",
    "#definindo cliques para entrar na pasta do drive\n",
    "pyautogui.click(1115, 554, clicks=2)\n",
    "time.sleep(2)\n",
    "pyautogui.click(650, 511)\n",
    "time.sleep(2)\n",
    "pyautogui.click(1714, 188)\n",
    "time.sleep(2)\n",
    "pyautogui.click(1537, 590)\n",
    "time.sleep(3)\n",
    "pyautogui.click(878, 569)\n",
    "time.sleep(5)\n",
    "\n",
    "#lendo a base de dados\n",
    "base_dados = pd.read_excel(r'C:\\Users\\mauri\\Downloads\\Vendas - Dez.xlsx')\n",
    "\n",
    "#criando as variaveis de faturamento e quantidade de produtos \n",
    "faturamento = base_dados['Valor Final'].sum()\n",
    "qtd_produtos = base_dados['Quantidade'].sum()\n",
    "\n",
    "#Abrir o email\n",
    "pyautogui.hotkey('ctrl','t')\n",
    "pyautogui.write('https://mail.google.com/mail/u/1/#inbox')\n",
    "pyautogui.press('enter')\n",
    "#Adicionando email\n",
    "time.sleep(5)\n",
    "pyautogui.click(64, 206)\n",
    "time.sleep(1)\n",
    "pyautogui.write('morrice.sa@gmail.com')\n",
    "time.sleep(2)\n",
    "pyautogui.press('tab')\n",
    "pyautogui.press('tab')\n",
    "\n",
    "#adicionando assunto do email\n",
    "assunto = \"Relatório de Vendas de ontem\"\n",
    "pyperclip.copy(assunto)\n",
    "pyautogui.hotkey('ctrl', 'v')\n",
    "time.sleep(2)\n",
    "pyautogui.press('tab')\n",
    "\n",
    "#adicionando corpo do email \n",
    "texto = f\"\"\"\n",
    "Prezados, bom dia \n",
    "O faturamento de ontem foi de: R${faturamento:,.2f}\n",
    "A quantidade de produtos foi de {qtd_produtos:,}\n",
    "\n",
    "\"\"\"\n",
    "pyperclip.copy(texto)\n",
    "pyautogui.hotkey('ctrl', 'v')\n",
    "time.sleep(2)\n",
    "pyautogui.hotkey('ctrl', 'enter')"
   ]
  },
  {
   "cell_type": "code",
   "execution_count": 21,
   "metadata": {},
   "outputs": [
    {
     "data": {
      "text/plain": [
       "Point(x=1815, y=152)"
      ]
     },
     "execution_count": 21,
     "metadata": {},
     "output_type": "execute_result"
    }
   ],
   "source": [
    "#pegando a posição do mouse para definir o clique\n",
    "time.sleep(6)\n",
    "pyautogui.position()"
   ]
  }
 ],
 "metadata": {
  "kernelspec": {
   "display_name": "Python 3",
   "language": "python",
   "name": "python3"
  },
  "language_info": {
   "codemirror_mode": {
    "name": "ipython",
    "version": 3
   },
   "file_extension": ".py",
   "mimetype": "text/x-python",
   "name": "python",
   "nbconvert_exporter": "python",
   "pygments_lexer": "ipython3",
   "version": "3.7.6"
  }
 },
 "nbformat": 4,
 "nbformat_minor": 4
}
